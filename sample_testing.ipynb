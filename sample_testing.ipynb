{
 "cells": [
  {
   "cell_type": "markdown",
   "metadata": {},
   "source": [
    "# Sample Testing"
   ]
  },
  {
   "cell_type": "code",
   "execution_count": 4,
   "metadata": {},
   "outputs": [
    {
     "name": "stdout",
     "output_type": "stream",
     "text": [
      "(27094, 22979)\n",
      "(27094, 20)\n"
     ]
    }
   ],
   "source": [
    "import numpy as np\n",
    "import pandas as pd\n",
    "import arff\n",
    "from sklearn.feature_extraction.text import TfidfVectorizer\n",
    "import matplotlib.pyplot as plt\n",
    "from sklearn.model_selection import cross_val_score\n",
    "from sklearn.model_selection import train_test_split\n",
    "from sklearn.multiclass import OneVsRestClassifier\n",
    "from sklearn.svm import LinearSVC\n",
    "\n",
    "from urllib.request import urlretrieve\n",
    "\n",
    "def load_game_data():\n",
    "    url = 'https://api.openml.org/data/v1/download/22102514/PC-Games-2020.arff'\n",
    "    filename = 'pc_game_dataset.arff'\n",
    "    file, http_response = urlretrieve(url, filename)\n",
    "    dataset = arff.load(open(file, 'r'))\n",
    "    attributes = np.array(dataset['attributes'])\n",
    "    data = np.array(dataset['data'])\n",
    "    data = clean_data(data)\n",
    "    return data, attributes\n",
    "\n",
    "# Use this to save bandwidth and time if the project has the data file already downloaded\n",
    "def load_game_data_from_file():\n",
    "    file = 'pc_game_dataset.arff'\n",
    "    dataset = arff.load(open(file, 'r'))\n",
    "    attributes = np.array(dataset['attributes'])\n",
    "    data = np.array(dataset['data'])\n",
    "    data = clean_data(data)\n",
    "    return data, attributes\n",
    "\n",
    "def clean_data(data):\n",
    "    result = []\n",
    "    for element in data:\n",
    "        if element[6] != \"\" and element[6] is not None and element[25] != \"\" and element[25] is not None:\n",
    "            result.append(element)\n",
    "    return np.array(result)\n",
    "\n",
    "A, b = load_game_data_from_file()\n",
    "\n",
    "import string\n",
    "\n",
    "def process_string(subject):\n",
    "    term = subject.strip()\n",
    "    term = str.lower(term)\n",
    "    term = term.translate(str.maketrans(\"\",\"\", string.punctuation))\n",
    "    return term\n",
    "\n",
    "results = set([])\n",
    "genres = A[:,6]\n",
    "for entry in genres:\n",
    "    terms = str(entry).split(',')\n",
    "    for term in terms:\n",
    "        results.add(process_string(term))\n",
    "y_labels = list(results)\n",
    "\n",
    "y = []\n",
    "for entry in A:\n",
    "    y_row = [0] * len(y_labels)\n",
    "    for genre in str(entry[6]).split(','):\n",
    "        y_row[y_labels.index(process_string(genre))] = 1\n",
    "    y.append(y_row)\n",
    "    \n",
    "y = np.array(y)\n",
    "\n",
    "docs = [str(n) for n in A[:,25]]\n",
    "tv = TfidfVectorizer(smooth_idf=True, sublinear_tf=True, max_df=0.5, min_df=5, lowercase=True, stop_words='english')\n",
    "tv_result = tv.fit_transform(docs)\n",
    "X = tv_result\n",
    "\n",
    "print(X.shape)\n",
    "print(y.shape)"
   ]
  },
  {
   "cell_type": "code",
   "execution_count": 6,
   "metadata": {},
   "outputs": [],
   "source": [
    "sample_testing_results = []"
   ]
  },
  {
   "cell_type": "markdown",
   "metadata": {},
   "source": [
    "In the cell below, enter the title and description of any game in the steam library that was published after 2020. Compare the listed genres in the store page to those output here."
   ]
  },
  {
   "cell_type": "code",
   "execution_count": 7,
   "metadata": {},
   "outputs": [],
   "source": [
    "title = \"Noita\"\n",
    "description = [\"Noita is a magical action roguelite set in a world where every pixel is physically simulated. Fight, explore, melt, burn, freeze and evaporate your way through the procedurally generated world using spells you've created yourself.\"]\n",
    "actual = [\"action\", \"adventure\", \"indie\", \"rpg\", \"simulation\"]"
   ]
  },
  {
   "cell_type": "code",
   "execution_count": 8,
   "metadata": {},
   "outputs": [
    {
     "name": "stdout",
     "output_type": "stream",
     "text": [
      "Classifier Trained\n"
     ]
    }
   ],
   "source": [
    "classifier = OneVsRestClassifier(LinearSVC(C=0.9, loss='hinge', max_iter=50000))\n",
    "classifier.fit(X, y)\n",
    "print(\"Classifier Trained\")"
   ]
  },
  {
   "cell_type": "code",
   "execution_count": 10,
   "metadata": {},
   "outputs": [
    {
     "data": {
      "text/html": [
       "<div>\n",
       "<style scoped>\n",
       "    .dataframe tbody tr th:only-of-type {\n",
       "        vertical-align: middle;\n",
       "    }\n",
       "\n",
       "    .dataframe tbody tr th {\n",
       "        vertical-align: top;\n",
       "    }\n",
       "\n",
       "    .dataframe thead th {\n",
       "        text-align: right;\n",
       "    }\n",
       "</style>\n",
       "<table border=\"1\" class=\"dataframe\">\n",
       "  <thead>\n",
       "    <tr style=\"text-align: right;\">\n",
       "      <th></th>\n",
       "      <th>Already in training set</th>\n",
       "      <th>Title</th>\n",
       "      <th>Description</th>\n",
       "      <th>Actual genres</th>\n",
       "      <th>Predicted Genres</th>\n",
       "      <th>Correct Genres</th>\n",
       "      <th>Incorrect Genres</th>\n",
       "    </tr>\n",
       "  </thead>\n",
       "  <tbody>\n",
       "    <tr>\n",
       "      <th>0</th>\n",
       "      <td>True</td>\n",
       "      <td>Noita</td>\n",
       "      <td>Noita is a magical action roguelite set in a w...</td>\n",
       "      <td>[action, adventure, indie, rpg, simulation]</td>\n",
       "      <td>[action, adventure, indie]</td>\n",
       "      <td>3/5</td>\n",
       "      <td>0</td>\n",
       "    </tr>\n",
       "  </tbody>\n",
       "</table>\n",
       "</div>"
      ],
      "text/plain": [
       "  Already in training set  Title  \\\n",
       "0                    True  Noita   \n",
       "\n",
       "                                         Description  \\\n",
       "0  Noita is a magical action roguelite set in a w...   \n",
       "\n",
       "                                 Actual genres            Predicted Genres  \\\n",
       "0  [action, adventure, indie, rpg, simulation]  [action, adventure, indie]   \n",
       "\n",
       "  Correct Genres  Incorrect Genres  \n",
       "0            3/5                 0  "
      ]
     },
     "execution_count": 10,
     "metadata": {},
     "output_type": "execute_result"
    }
   ],
   "source": [
    "sample = TfidfVectorizer(vocabulary=tv.vocabulary_, smooth_idf=True, sublinear_tf=True, max_df=0.5, min_df=5, lowercase=True, stop_words='english')\n",
    "sample_result = sample.fit_transform(description)\n",
    "y_pred = classifier.predict(sample_result)\n",
    "\n",
    "result = []\n",
    "for label in range(len(y_labels)):\n",
    "    if y_pred[0][label] != 0:\n",
    "        result.append(y_labels[label])\n",
    "\n",
    "trained = np.isin(title, A[:, 2])\n",
    "correct = 0\n",
    "incorrect = 0\n",
    "for genre in result:\n",
    "    if genre in actual:\n",
    "        correct += 1\n",
    "    else:\n",
    "        incorrect += 1\n",
    "correct_ratio = \"\" + str(correct) + \"/\" + str(len(actual))\n",
    "test_output = [trained, title, description[0], actual, result, correct_ratio, incorrect]\n",
    "\n",
    "\n",
    "sample_testing_results.append(test_output)\n",
    "\n",
    "columns = ['Already in training set', 'Title', 'Description', 'Actual genres', 'Predicted Genres', 'Correct Genres', 'Incorrect Genres']\n",
    "pd.DataFrame(sample_testing_results, columns=columns)"
   ]
  }
 ],
 "metadata": {
  "kernelspec": {
   "display_name": "Python 3",
   "language": "python",
   "name": "python3"
  },
  "language_info": {
   "codemirror_mode": {
    "name": "ipython",
    "version": 3
   },
   "file_extension": ".py",
   "mimetype": "text/x-python",
   "name": "python",
   "nbconvert_exporter": "python",
   "pygments_lexer": "ipython3",
   "version": "3.12.2"
  }
 },
 "nbformat": 4,
 "nbformat_minor": 2
}
