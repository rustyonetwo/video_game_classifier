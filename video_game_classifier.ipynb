{
 "cells": [
  {
   "cell_type": "markdown",
   "id": "85ec89a2-17e3-46bf-8296-378b2b84798c",
   "metadata": {},
   "source": [
    "# Video Game Classifier Project\n",
    "Tyler Short and Gideon Keith-Stanley\n",
    "\n",
    "### Background\n",
    "The PC Games 2020 dataset contains the results of scraping and sorting the entire catalog of Valve's \"Steam\" video game store, and includes data on over 27,000 titles. These data include title, description, genre, price points, several success metrics, and more. We hypothesize that using the \"bag of words\" method as seen in email spam filters, we can train a machine learning model using the digested description of video games, and use that information to classify games by genre."
   ]
  },
  {
   "cell_type": "code",
   "execution_count": 53,
   "id": "869f84fa-fb3e-4cb3-a472-468f0bc6b77c",
   "metadata": {},
   "outputs": [],
   "source": [
    "import numpy as np\n",
    "import pandas as pd"
   ]
  },
  {
   "cell_type": "markdown",
   "id": "e8bc4dc7-e70c-4135-88a7-d4fa3b8d34b8",
   "metadata": {},
   "source": [
    "### Data Loader\n",
    "This routine downloads the dataset from OpenML.org and processes it with liac-arff. "
   ]
  },
  {
   "cell_type": "code",
   "execution_count": 54,
   "id": "b3e8111a-8972-4ebe-a6d1-2ad22528a3d8",
   "metadata": {},
   "outputs": [],
   "source": [
    "import arff\n",
    "\n",
    "from urllib.request import urlretrieve\n",
    "\n",
    "def load_game_data():\n",
    "    url = 'https://api.openml.org/data/v1/download/22102514/PC-Games-2020.arff'\n",
    "    filename = 'pc_game_dataset.arff'\n",
    "    file, http_response = urlretrieve(url, filename)\n",
    "    dataset = arff.load(open(file, 'r'))\n",
    "    attributes = np.array(dataset['attributes'])\n",
    "    data = np.array(dataset['data'])\n",
    "    return data, attributes\n",
    "\n",
    "# Use this to save bandwidth and time if the project has the data file in the /data folder\n",
    "def load_game_data_from_file()\n",
    "    file = 'data/pc_game_dataset.arff'\n",
    "    dataset = arff.load(open(file, 'r'))\n",
    "    attributes = np.array(dataset['attributes'])\n",
    "    data = np.array(dataset['data'])\n",
    "    return data, attributes\n",
    "    "
   ]
  },
  {
   "cell_type": "code",
   "execution_count": 55,
   "id": "2eaac541-a89c-44bb-96a0-f99c3ade4d0a",
   "metadata": {},
   "outputs": [],
   "source": [
    "data, attributes = load_game_data()"
   ]
  },
  {
   "cell_type": "markdown",
   "id": "fcc71a4e-3ec2-415e-83ec-b73c2bde5532",
   "metadata": {},
   "source": [
    "## Preprocessing\n",
    "This code digests the dataset into the form we need and prepares it for use by the model."
   ]
  },
  {
   "cell_type": "code",
   "execution_count": 58,
   "id": "6db8ec44-525b-4f46-bc7f-d989fb2887ff",
   "metadata": {},
   "outputs": [],
   "source": [
    "results = set([])\n",
    "genres = data[:,6]\n",
    "for entry in genres:\n",
    "    terms = str(entry).split(',')\n",
    "    for term in terms:\n",
    "        results.add(term.strip())\n",
    "y_headers = list(results)\n",
    "\n",
    "y = []\n",
    "for entry in data:\n",
    "    y_row = [0] * len(y_headers)\n",
    "    for genre in str(entry[6]).split(','):\n",
    "        y_row[y_headers.index(genre.strip())] = 1\n",
    "    y.append(y_row)\n",
    "    \n",
    "y = np.array(y)\n",
    "\n",
    "# y is now our label vector\n",
    "\n"
   ]
  },
  {
   "cell_type": "code",
   "execution_count": null,
   "id": "439dd05c-60c2-4ba2-8d8b-8a06652f84af",
   "metadata": {},
   "outputs": [],
   "source": [
    "bag = set([])\n",
    "descriptions = data[:,25]\n",
    "\n",
    "for entry in descriptions:\n",
    "    terms = str(entry).split(' ')\n",
    "    for term in terms:\n",
    "        bag.add(term.strip())\n",
    "x_headers = list(bag)\n",
    "\n",
    "X = []\n",
    "for entry in data:\n",
    "    x_row = [0] * len(x_headers)\n",
    "    for word in str(entry[25]).split(' '):\n",
    "        x_row[x_headers.index(word.strip())] = 1\n",
    "    X.append(x_row)\n",
    "\n",
    "X = np.array(X)\n",
    "print(X[0])"
   ]
  }
 ],
 "metadata": {
  "kernelspec": {
   "display_name": "Python 3 (ipykernel)",
   "language": "python",
   "name": "python3"
  },
  "language_info": {
   "codemirror_mode": {
    "name": "ipython",
    "version": 3
   },
   "file_extension": ".py",
   "mimetype": "text/x-python",
   "name": "python",
   "nbconvert_exporter": "python",
   "pygments_lexer": "ipython3",
   "version": "3.12.2"
  }
 },
 "nbformat": 4,
 "nbformat_minor": 5
}
