{
 "cells": [
  {
   "cell_type": "markdown",
   "id": "85ec89a2-17e3-46bf-8296-378b2b84798c",
   "metadata": {},
   "source": [
    "# Video Game Classifier Project\n",
    "Tyler Short and Gideon Keith-Stanley\n",
    "\n",
    "### Background\n",
    "The PC Games 2020 dataset contains the results of scraping and sorting the entire catalog of Valve's \"Steam\" video game store, and includes data on over 27,000 titles. These data include title, description, genre, price points, several success metrics, and more. We hypothesize that using the \"bag of words\" method as seen in email spam filters, we can train a machine learning model using the digested description of video games, and use that information to classify games by genre."
   ]
  },
  {
   "cell_type": "code",
   "execution_count": 1,
   "id": "869f84fa-fb3e-4cb3-a472-468f0bc6b77c",
   "metadata": {},
   "outputs": [],
   "source": [
    "import numpy as np\n",
    "import pandas as pd"
   ]
  },
  {
   "cell_type": "markdown",
   "id": "e8bc4dc7-e70c-4135-88a7-d4fa3b8d34b8",
   "metadata": {},
   "source": [
    "### Data Loader\n",
    "This routine downloads the dataset from OpenML.org and processes it with liac-arff. "
   ]
  },
  {
   "cell_type": "code",
   "execution_count": 2,
   "id": "b3e8111a-8972-4ebe-a6d1-2ad22528a3d8",
   "metadata": {},
   "outputs": [],
   "source": [
    "import arff\n",
    "\n",
    "from urllib.request import urlretrieve\n",
    "\n",
    "def load_game_data():\n",
    "    url = 'https://api.openml.org/data/v1/download/22102514/PC-Games-2020.arff'\n",
    "    filename = 'pc_game_dataset.arff'\n",
    "    file, http_response = urlretrieve(url, filename)\n",
    "    dataset = arff.load(open(file, 'r'))\n",
    "    attributes = np.array(dataset['attributes'])\n",
    "    data = np.array(dataset['data'])\n",
    "    return data, attributes\n",
    "\n",
    "# Use this to save bandwidth and time if the project has the data file already downloaded\n",
    "def load_game_data_from_file():\n",
    "    file = 'pc_game_dataset.arff'\n",
    "    dataset = arff.load(open(file, 'r'))\n",
    "    attributes = np.array(dataset['attributes'])\n",
    "    data = np.array(dataset['data'])\n",
    "    return data, attributes\n",
    "    "
   ]
  },
  {
   "cell_type": "code",
   "execution_count": 3,
   "id": "2eaac541-a89c-44bb-96a0-f99c3ade4d0a",
   "metadata": {},
   "outputs": [],
   "source": [
    "data, attributes = load_game_data()"
   ]
  },
  {
   "cell_type": "markdown",
   "id": "fcc71a4e-3ec2-415e-83ec-b73c2bde5532",
   "metadata": {},
   "source": [
    "## Preprocessing\n",
    "This code digests the dataset into the form we need and prepares it for use by the model."
   ]
  },
  {
   "cell_type": "code",
   "execution_count": 4,
   "id": "6f83a775-0ff4-4eb4-b148-5489abac3d7b",
   "metadata": {},
   "outputs": [],
   "source": [
    "from sklearn.feature_extraction.text import CountVectorizer\n",
    "import matplotlib.pyplot as plt"
   ]
  },
  {
   "cell_type": "code",
   "execution_count": 5,
   "id": "b363bcf3-a029-4280-91af-e4b2f06e14ae",
   "metadata": {},
   "outputs": [],
   "source": [
    "A, b = load_game_data_from_file()"
   ]
  },
  {
   "cell_type": "code",
   "execution_count": 6,
   "id": "22d543c8-0a52-4a16-a935-760debee0413",
   "metadata": {},
   "outputs": [],
   "source": [
    "genre_docs = [str(n) for n in A[:,6]]\n",
    "cv = CountVectorizer(lowercase=True, stop_words='english')\n",
    "cv_result_a = cv.fit_transform(genre_docs)\n",
    "y = cv_result_a.toarray()"
   ]
  },
  {
   "cell_type": "code",
   "execution_count": 7,
   "id": "332744ba-4d66-4917-b1ce-8bf1bc846803",
   "metadata": {},
   "outputs": [],
   "source": [
    "docs = [str(n) for n in A[:,25]]\n",
    "cv = CountVectorizer(lowercase=True, stop_words='english')\n",
    "cv_result = cv.fit_transform(docs)\n",
    "X = cv_result"
   ]
  },
  {
   "cell_type": "code",
   "execution_count": 8,
   "id": "b93481e7-556d-4e5c-8fa1-9ced945df0c7",
   "metadata": {},
   "outputs": [
    {
     "data": {
      "text/plain": [
       "((30250, 124736), (30250, 26))"
      ]
     },
     "execution_count": 8,
     "metadata": {},
     "output_type": "execute_result"
    }
   ],
   "source": [
    "X.shape, y.shape"
   ]
  },
  {
   "cell_type": "markdown",
   "id": "e6be774e-e8c0-48bb-90a9-5cbca9322769",
   "metadata": {},
   "source": [
    "## Multi-Class LinearSVC\n"
   ]
  },
  {
   "cell_type": "code",
   "execution_count": 16,
   "id": "9ababed8-e391-4127-8bdc-a2e1ef70b99e",
   "metadata": {},
   "outputs": [],
   "source": [
    "from sklearn.model_selection import cross_val_score\n",
    "from sklearn.model_selection import train_test_split\n",
    "from sklearn.multiclass import OneVsRestClassifier\n",
    "from sklearn.svm import LinearSVC\n",
    "\n",
    "x_train, x_test, y_train, t_test = train_test_split(X, y, test_size = 0.3, random_state = 0)\n",
    "\n",
    "classifier = OneVsRestClassifier(LinearSVC(loss='hinge', max_iter=10000))"
   ]
  },
  {
   "cell_type": "markdown",
   "id": "ad4b8f3e-2b44-493f-9668-5733a2a630f0",
   "metadata": {},
   "source": [
    "The below cell takes almost 15 minutes to run and produces 0.15097520661157027 accuracy"
   ]
  },
  {
   "cell_type": "code",
   "execution_count": 15,
   "id": "11a9b40e-7d26-4a03-a2f2-e112e4b9eb28",
   "metadata": {},
   "outputs": [
    {
     "name": "stderr",
     "output_type": "stream",
     "text": [
      "/home/rusty/miniconda3/lib/python3.12/site-packages/sklearn/multiclass.py:87: UserWarning: Label not 9 is present in all training examples.\n",
      "  warnings.warn(\n",
      "/home/rusty/miniconda3/lib/python3.12/site-packages/sklearn/multiclass.py:87: UserWarning: Label not 13 is present in all training examples.\n",
      "  warnings.warn(\n",
      "/home/rusty/miniconda3/lib/python3.12/site-packages/sklearn/multiclass.py:87: UserWarning: Label not 25 is present in all training examples.\n",
      "  warnings.warn(\n",
      "/home/rusty/miniconda3/lib/python3.12/site-packages/sklearn/multiclass.py:87: UserWarning: Label not 3 is present in all training examples.\n",
      "  warnings.warn(\n",
      "/home/rusty/miniconda3/lib/python3.12/site-packages/sklearn/multiclass.py:87: UserWarning: Label not 5 is present in all training examples.\n",
      "  warnings.warn(\n",
      "/home/rusty/miniconda3/lib/python3.12/site-packages/sklearn/multiclass.py:87: UserWarning: Label not 7 is present in all training examples.\n",
      "  warnings.warn(\n",
      "/home/rusty/miniconda3/lib/python3.12/site-packages/sklearn/multiclass.py:87: UserWarning: Label not 10 is present in all training examples.\n",
      "  warnings.warn(\n",
      "/home/rusty/miniconda3/lib/python3.12/site-packages/sklearn/multiclass.py:87: UserWarning: Label not 16 is present in all training examples.\n",
      "  warnings.warn(\n",
      "/home/rusty/miniconda3/lib/python3.12/site-packages/sklearn/multiclass.py:87: UserWarning: Label not 20 is present in all training examples.\n",
      "  warnings.warn(\n",
      "/home/rusty/miniconda3/lib/python3.12/site-packages/sklearn/multiclass.py:87: UserWarning: Label not 23 is present in all training examples.\n",
      "  warnings.warn(\n",
      "/home/rusty/miniconda3/lib/python3.12/site-packages/sklearn/multiclass.py:87: UserWarning: Label not 24 is present in all training examples.\n",
      "  warnings.warn(\n"
     ]
    },
    {
     "name": "stdout",
     "output_type": "stream",
     "text": [
      "0.15097520661157027\n"
     ]
    }
   ],
   "source": [
    "accuracy = cross_val_score(classifier, X, y, cv=3, scoring='accuracy')\n",
    "print(np.mean(accuracy))"
   ]
  },
  {
   "cell_type": "code",
   "execution_count": 20,
   "id": "031a4b45-2ca4-4890-9c9b-17a92d58e6ec",
   "metadata": {},
   "outputs": [],
   "source": [
    "# from sklearn.decomposition import PCA\n",
    "\n",
    "# pca = PCA(200)\n",
    "# pca.fit(X)\n",
    "# sparse_X = pca.components_\n",
    "\n",
    "# accuracy = cross_val_score(classifier, sparse_X, y, cv=2, scoring='accuracy')\n",
    "# print(np.mean(accuracy))"
   ]
  },
  {
   "cell_type": "markdown",
   "id": "c5eff255-0be9-4c23-809b-e3e42fdcc0d7",
   "metadata": {},
   "source": [
    "The below cell takes almost 15 minutes to run and produces 0.1626789757927357 accuracy with 50 estimators"
   ]
  },
  {
   "cell_type": "code",
   "execution_count": 19,
   "id": "5a44e840-99ee-4b57-b8fb-de04985c2a2e",
   "metadata": {},
   "outputs": [
    {
     "name": "stdout",
     "output_type": "stream",
     "text": [
      "0.1626789757927357\n"
     ]
    }
   ],
   "source": [
    "from sklearn.ensemble import RandomForestClassifier\n",
    "classifier = RandomForestClassifier(n_estimators=50)\n",
    "accuracy = cross_val_score(classifier, X, y, cv=3, scoring='accuracy')\n",
    "print(np.mean(accuracy))"
   ]
  }
 ],
 "metadata": {
  "kernelspec": {
   "display_name": "Python 3 (ipykernel)",
   "language": "python",
   "name": "python3"
  },
  "language_info": {
   "codemirror_mode": {
    "name": "ipython",
    "version": 3
   },
   "file_extension": ".py",
   "mimetype": "text/x-python",
   "name": "python",
   "nbconvert_exporter": "python",
   "pygments_lexer": "ipython3",
   "version": "3.12.2"
  }
 },
 "nbformat": 4,
 "nbformat_minor": 5
}
