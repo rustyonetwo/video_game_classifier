{
 "cells": [
  {
   "cell_type": "markdown",
   "metadata": {},
   "source": [
    "## Data Capture"
   ]
  },
  {
   "cell_type": "code",
   "execution_count": null,
   "metadata": {},
   "outputs": [],
   "source": [
    "import numpy as np\n",
    "import pandas as pd\n",
    "import arff\n",
    "from sklearn.feature_extraction.text import TfidfVectorizer\n",
    "import matplotlib.pyplot as plt\n",
    "\n",
    "from urllib.request import urlretrieve\n",
    "\n",
    "def load_game_data():\n",
    "    url = 'https://api.openml.org/data/v1/download/22102514/PC-Games-2020.arff'\n",
    "    filename = 'pc_game_dataset.arff'\n",
    "    file, http_response = urlretrieve(url, filename)\n",
    "    dataset = arff.load(open(file, 'r'))\n",
    "    attributes = np.array(dataset['attributes'])\n",
    "    data = np.array(dataset['data'])\n",
    "    data = clean_data(data)\n",
    "    return data, attributes\n",
    "\n",
    "# Use this to save bandwidth and time if the project has the data file already downloaded\n",
    "def load_game_data_from_file():\n",
    "    file = 'pc_game_dataset.arff'\n",
    "    dataset = arff.load(open(file, 'r'))\n",
    "    attributes = np.array(dataset['attributes'])\n",
    "    data = np.array(dataset['data'])\n",
    "    data = clean_data(data)\n",
    "    return data, attributes\n",
    "\n",
    "def clean_data(data):\n",
    "    result = []\n",
    "    for element in data:\n",
    "        if element[6] != \"\" and element[6] is not None and element[25] != \"\" and element[25] is not None:\n",
    "            result.append(element)\n",
    "    return np.array(result)\n",
    "\n",
    "A, b = load_game_data_from_file()"
   ]
  },
  {
   "cell_type": "markdown",
   "metadata": {},
   "source": [
    "## Preprocessing"
   ]
  },
  {
   "cell_type": "code",
   "execution_count": 9,
   "metadata": {},
   "outputs": [
    {
     "name": "stdout",
     "output_type": "stream",
     "text": [
      "(27094, 22979)\n",
      "(27094, 20)\n"
     ]
    }
   ],
   "source": [
    "import string\n",
    "\n",
    "def process_string(subject):\n",
    "    term = subject.strip()\n",
    "    term = str.lower(term)\n",
    "    term = term.translate(str.maketrans(\"\",\"\", string.punctuation))\n",
    "    return term\n",
    "\n",
    "results = set([])\n",
    "genres = A[:,6]\n",
    "for entry in genres:\n",
    "    terms = str(entry).split(',')\n",
    "    for term in terms:\n",
    "        results.add(process_string(term))\n",
    "y_labels = list(results)\n",
    "\n",
    "y = []\n",
    "for entry in A:\n",
    "    y_row = [0] * len(y_labels)\n",
    "    for genre in str(entry[6]).split(','):\n",
    "        y_row[y_labels.index(process_string(genre))] = 1\n",
    "    y.append(y_row)\n",
    "    \n",
    "y = np.array(y)\n",
    "\n",
    "docs = [str(n) for n in A[:,25]]\n",
    "tv = TfidfVectorizer(smooth_idf=True, sublinear_tf=True, max_df=0.5, min_df=5, lowercase=True, stop_words='english')\n",
    "tv_result = tv.fit_transform(docs)\n",
    "X = tv_result\n",
    "\n",
    "print(X.shape)\n",
    "print(y.shape)"
   ]
  },
  {
   "cell_type": "markdown",
   "metadata": {},
   "source": [
    "## Analysis"
   ]
  },
  {
   "cell_type": "markdown",
   "metadata": {},
   "source": [
    "### LinearSVC C=0.9"
   ]
  },
  {
   "cell_type": "code",
   "execution_count": 11,
   "metadata": {},
   "outputs": [
    {
     "name": "stderr",
     "output_type": "stream",
     "text": [
      "C:\\Users\\tbsho\\AppData\\Roaming\\Python\\Python312\\site-packages\\sklearn\\multiclass.py:87: UserWarning: Label not 0 is present in all training examples.\n",
      "  warnings.warn(\n",
      "C:\\Users\\tbsho\\AppData\\Roaming\\Python\\Python312\\site-packages\\sklearn\\multiclass.py:87: UserWarning: Label not 14 is present in all training examples.\n",
      "  warnings.warn(\n",
      "C:\\Users\\tbsho\\AppData\\Roaming\\Python\\Python312\\site-packages\\sklearn\\multiclass.py:87: UserWarning: Label not 0 is present in all training examples.\n",
      "  warnings.warn(\n",
      "C:\\Users\\tbsho\\AppData\\Roaming\\Python\\Python312\\site-packages\\sklearn\\multiclass.py:87: UserWarning: Label not 8 is present in all training examples.\n",
      "  warnings.warn(\n",
      "C:\\Users\\tbsho\\AppData\\Roaming\\Python\\Python312\\site-packages\\sklearn\\multiclass.py:87: UserWarning: Label not 12 is present in all training examples.\n",
      "  warnings.warn(\n",
      "C:\\Users\\tbsho\\AppData\\Roaming\\Python\\Python312\\site-packages\\sklearn\\multiclass.py:87: UserWarning: Label not 14 is present in all training examples.\n",
      "  warnings.warn(\n",
      "C:\\Users\\tbsho\\AppData\\Roaming\\Python\\Python312\\site-packages\\sklearn\\multiclass.py:87: UserWarning: Label not 0 is present in all training examples.\n",
      "  warnings.warn(\n",
      "C:\\Users\\tbsho\\AppData\\Roaming\\Python\\Python312\\site-packages\\sklearn\\multiclass.py:87: UserWarning: Label not 16 is present in all training examples.\n",
      "  warnings.warn(\n",
      "C:\\Users\\tbsho\\AppData\\Roaming\\Python\\Python312\\site-packages\\sklearn\\multiclass.py:87: UserWarning: Label not 18 is present in all training examples.\n",
      "  warnings.warn(\n",
      "C:\\Users\\tbsho\\AppData\\Roaming\\Python\\Python312\\site-packages\\sklearn\\multiclass.py:87: UserWarning: Label not 14 is present in all training examples.\n",
      "  warnings.warn(\n",
      "C:\\Users\\tbsho\\AppData\\Roaming\\Python\\Python312\\site-packages\\sklearn\\multiclass.py:87: UserWarning: Label not 0 is present in all training examples.\n",
      "  warnings.warn(\n",
      "C:\\Users\\tbsho\\AppData\\Roaming\\Python\\Python312\\site-packages\\sklearn\\multiclass.py:87: UserWarning: Label not 0 is present in all training examples.\n",
      "  warnings.warn(\n",
      "C:\\Users\\tbsho\\AppData\\Roaming\\Python\\Python312\\site-packages\\sklearn\\multiclass.py:87: UserWarning: Label not 14 is present in all training examples.\n",
      "  warnings.warn(\n"
     ]
    },
    {
     "name": "stdout",
     "output_type": "stream",
     "text": [
      "0.9191161274449502\n"
     ]
    }
   ],
   "source": [
    "from sklearn.model_selection import cross_val_score\n",
    "from sklearn.model_selection import train_test_split\n",
    "from sklearn.multiclass import OneVsRestClassifier\n",
    "from sklearn.svm import LinearSVC\n",
    "\n",
    "#LinearSVC\n",
    "results = []\n",
    "for state in range(10):\n",
    "    x_train, x_test, y_train, y_test = train_test_split(X, y, test_size = 0.3, random_state = state)\n",
    "    classifier = OneVsRestClassifier(LinearSVC(C=0.9, loss='hinge', max_iter=50000))\n",
    "    classifier.fit(x_train, y_train)\n",
    "    y_pred = classifier.predict(x_test)\n",
    "    results.append(np.mean(y_pred == y_test))\n",
    "print(np.mean(results))"
   ]
  }
 ],
 "metadata": {
  "kernelspec": {
   "display_name": "Python 3",
   "language": "python",
   "name": "python3"
  },
  "language_info": {
   "codemirror_mode": {
    "name": "ipython",
    "version": 3
   },
   "file_extension": ".py",
   "mimetype": "text/x-python",
   "name": "python",
   "nbconvert_exporter": "python",
   "pygments_lexer": "ipython3",
   "version": "3.12.2"
  }
 },
 "nbformat": 4,
 "nbformat_minor": 2
}
