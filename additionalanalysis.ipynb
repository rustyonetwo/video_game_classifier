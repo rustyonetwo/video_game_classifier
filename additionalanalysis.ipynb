{
 "cells": [
  {
   "cell_type": "markdown",
   "metadata": {},
   "source": [
    "## Data Capture"
   ]
  },
  {
   "cell_type": "code",
   "execution_count": 21,
   "metadata": {},
   "outputs": [],
   "source": [
    "import numpy as np\n",
    "import pandas as pd\n",
    "import arff\n",
    "from sklearn.feature_extraction.text import TfidfVectorizer\n",
    "import matplotlib.pyplot as plt\n",
    "\n",
    "from urllib.request import urlretrieve\n",
    "\n",
    "def load_game_data():\n",
    "    url = 'https://api.openml.org/data/v1/download/22102514/PC-Games-2020.arff'\n",
    "    filename = 'pc_game_dataset.arff'\n",
    "    file, http_response = urlretrieve(url, filename)\n",
    "    dataset = arff.load(open(file, 'r'))\n",
    "    attributes = np.array(dataset['attributes'])\n",
    "    data = np.array(dataset['data'])\n",
    "    data = clean_data(data)\n",
    "    return data, attributes\n",
    "\n",
    "# Use this to save bandwidth and time if the project has the data file already downloaded\n",
    "def load_game_data_from_file():\n",
    "    file = 'pc_game_dataset.arff'\n",
    "    dataset = arff.load(open(file, 'r'))\n",
    "    attributes = np.array(dataset['attributes'])\n",
    "    data = np.array(dataset['data'])\n",
    "    data = clean_data(data)\n",
    "    return data, attributes\n",
    "\n",
    "def clean_data(data):\n",
    "    result = []\n",
    "    for element in data:\n",
    "        if element[6] != \"\" and element[6] is not None and element[25] != \"\" and element[25] is not None:\n",
    "            result.append(element)\n",
    "    return np.array(result)\n",
    "\n",
    "A, b = load_game_data_from_file()"
   ]
  },
  {
   "cell_type": "markdown",
   "metadata": {},
   "source": [
    "## Preprocessing"
   ]
  },
  {
   "cell_type": "code",
   "execution_count": 22,
   "metadata": {},
   "outputs": [
    {
     "name": "stdout",
     "output_type": "stream",
     "text": [
      "(27094, 22979)\n",
      "(27094, 20)\n"
     ]
    }
   ],
   "source": [
    "import string\n",
    "\n",
    "def process_string(subject):\n",
    "    term = subject.strip()\n",
    "    term = str.lower(term)\n",
    "    term = term.translate(str.maketrans(\"\",\"\", string.punctuation))\n",
    "    return term\n",
    "\n",
    "results = set([])\n",
    "genres = A[:,6]\n",
    "for entry in genres:\n",
    "    terms = str(entry).split(',')\n",
    "    for term in terms:\n",
    "        results.add(process_string(term))\n",
    "y_labels = list(results)\n",
    "\n",
    "y = []\n",
    "for entry in A:\n",
    "    y_row = [0] * len(y_labels)\n",
    "    for genre in str(entry[6]).split(','):\n",
    "        y_row[y_labels.index(process_string(genre))] = 1\n",
    "    y.append(y_row)\n",
    "    \n",
    "y = np.array(y)\n",
    "\n",
    "docs = [str(n) for n in A[:,25]]\n",
    "tv = TfidfVectorizer(smooth_idf=True, sublinear_tf=True, max_df=0.5, min_df=5, lowercase=True, stop_words='english')\n",
    "tv_result = tv.fit_transform(docs)\n",
    "X = tv_result\n",
    "\n",
    "print(X.shape)\n",
    "print(y.shape)"
   ]
  },
  {
   "cell_type": "markdown",
   "metadata": {},
   "source": [
    "## Analysis"
   ]
  },
  {
   "cell_type": "markdown",
   "metadata": {},
   "source": [
    "### LinearSVC C=0.9"
   ]
  },
  {
   "cell_type": "code",
   "execution_count": 30,
   "metadata": {},
   "outputs": [
    {
     "name": "stderr",
     "output_type": "stream",
     "text": [
      "C:\\Users\\tbsho\\AppData\\Roaming\\Python\\Python312\\site-packages\\sklearn\\multiclass.py:87: UserWarning: Label not 0 is present in all training examples.\n",
      "  warnings.warn(\n",
      "C:\\Users\\tbsho\\AppData\\Roaming\\Python\\Python312\\site-packages\\sklearn\\multiclass.py:87: UserWarning: Label not 14 is present in all training examples.\n",
      "  warnings.warn(\n",
      "C:\\Users\\tbsho\\AppData\\Roaming\\Python\\Python312\\site-packages\\sklearn\\multiclass.py:87: UserWarning: Label not 0 is present in all training examples.\n",
      "  warnings.warn(\n",
      "C:\\Users\\tbsho\\AppData\\Roaming\\Python\\Python312\\site-packages\\sklearn\\multiclass.py:87: UserWarning: Label not 8 is present in all training examples.\n",
      "  warnings.warn(\n",
      "C:\\Users\\tbsho\\AppData\\Roaming\\Python\\Python312\\site-packages\\sklearn\\multiclass.py:87: UserWarning: Label not 12 is present in all training examples.\n",
      "  warnings.warn(\n",
      "C:\\Users\\tbsho\\AppData\\Roaming\\Python\\Python312\\site-packages\\sklearn\\multiclass.py:87: UserWarning: Label not 14 is present in all training examples.\n",
      "  warnings.warn(\n",
      "C:\\Users\\tbsho\\AppData\\Roaming\\Python\\Python312\\site-packages\\sklearn\\multiclass.py:87: UserWarning: Label not 0 is present in all training examples.\n",
      "  warnings.warn(\n",
      "C:\\Users\\tbsho\\AppData\\Roaming\\Python\\Python312\\site-packages\\sklearn\\multiclass.py:87: UserWarning: Label not 16 is present in all training examples.\n",
      "  warnings.warn(\n",
      "C:\\Users\\tbsho\\AppData\\Roaming\\Python\\Python312\\site-packages\\sklearn\\multiclass.py:87: UserWarning: Label not 18 is present in all training examples.\n",
      "  warnings.warn(\n",
      "C:\\Users\\tbsho\\AppData\\Roaming\\Python\\Python312\\site-packages\\sklearn\\multiclass.py:87: UserWarning: Label not 14 is present in all training examples.\n",
      "  warnings.warn(\n",
      "C:\\Users\\tbsho\\AppData\\Roaming\\Python\\Python312\\site-packages\\sklearn\\multiclass.py:87: UserWarning: Label not 0 is present in all training examples.\n",
      "  warnings.warn(\n",
      "C:\\Users\\tbsho\\AppData\\Roaming\\Python\\Python312\\site-packages\\sklearn\\multiclass.py:87: UserWarning: Label not 0 is present in all training examples.\n",
      "  warnings.warn(\n",
      "C:\\Users\\tbsho\\AppData\\Roaming\\Python\\Python312\\site-packages\\sklearn\\multiclass.py:87: UserWarning: Label not 14 is present in all training examples.\n",
      "  warnings.warn(\n"
     ]
    },
    {
     "name": "stdout",
     "output_type": "stream",
     "text": [
      "0.9191161274449502\n"
     ]
    }
   ],
   "source": [
    "from sklearn.model_selection import cross_val_score\n",
    "from sklearn.model_selection import train_test_split\n",
    "from sklearn.multiclass import OneVsRestClassifier\n",
    "from sklearn.svm import LinearSVC\n",
    "\n",
    "#LinearSVC\n",
    "results = []\n",
    "for state in range(10):\n",
    "    x_train, x_test, y_train, y_test = train_test_split(X, y, test_size = 0.3, random_state = state)\n",
    "    classifier = OneVsRestClassifier(LinearSVC(C=0.9, loss='hinge', max_iter=50000))\n",
    "    classifier.fit(x_train, y_train)\n",
    "    y_pred = classifier.predict(x_test)\n",
    "    results.append(np.mean(y_pred == y_test))\n",
    "print(np.mean(results))"
   ]
  },
  {
   "cell_type": "markdown",
   "metadata": {},
   "source": [
    "By Genre (~45sec)"
   ]
  },
  {
   "cell_type": "code",
   "execution_count": null,
   "metadata": {},
   "outputs": [
    {
     "name": "stderr",
     "output_type": "stream",
     "text": [
      "C:\\Users\\tbsho\\AppData\\Roaming\\Python\\Python312\\site-packages\\sklearn\\multiclass.py:87: UserWarning: Label not 0 is present in all training examples.\n",
      "  warnings.warn(\n",
      "C:\\Users\\tbsho\\AppData\\Roaming\\Python\\Python312\\site-packages\\sklearn\\multiclass.py:87: UserWarning: Label not 0 is present in all training examples.\n",
      "  warnings.warn(\n",
      "C:\\Users\\tbsho\\AppData\\Roaming\\Python\\Python312\\site-packages\\sklearn\\multiclass.py:87: UserWarning: Label not 0 is present in all training examples.\n",
      "  warnings.warn(\n",
      "C:\\Users\\tbsho\\AppData\\Roaming\\Python\\Python312\\site-packages\\sklearn\\multiclass.py:87: UserWarning: Label not 0 is present in all training examples.\n",
      "  warnings.warn(\n",
      "C:\\Users\\tbsho\\AppData\\Roaming\\Python\\Python312\\site-packages\\sklearn\\multiclass.py:87: UserWarning: Label not 0 is present in all training examples.\n",
      "  warnings.warn(\n",
      "C:\\Users\\tbsho\\AppData\\Roaming\\Python\\Python312\\site-packages\\sklearn\\multiclass.py:87: UserWarning: Label not 0 is present in all training examples.\n",
      "  warnings.warn(\n",
      "C:\\Users\\tbsho\\AppData\\Roaming\\Python\\Python312\\site-packages\\sklearn\\multiclass.py:87: UserWarning: Label not 0 is present in all training examples.\n",
      "  warnings.warn(\n",
      "C:\\Users\\tbsho\\AppData\\Roaming\\Python\\Python312\\site-packages\\sklearn\\multiclass.py:87: UserWarning: Label not 0 is present in all training examples.\n",
      "  warnings.warn(\n",
      "C:\\Users\\tbsho\\AppData\\Roaming\\Python\\Python312\\site-packages\\sklearn\\multiclass.py:87: UserWarning: Label not 0 is present in all training examples.\n",
      "  warnings.warn(\n",
      "C:\\Users\\tbsho\\AppData\\Roaming\\Python\\Python312\\site-packages\\sklearn\\multiclass.py:87: UserWarning: Label not 0 is present in all training examples.\n",
      "  warnings.warn(\n",
      "C:\\Users\\tbsho\\AppData\\Roaming\\Python\\Python312\\site-packages\\sklearn\\multiclass.py:87: UserWarning: Label not 0 is present in all training examples.\n",
      "  warnings.warn(\n",
      "C:\\Users\\tbsho\\AppData\\Roaming\\Python\\Python312\\site-packages\\sklearn\\multiclass.py:87: UserWarning: Label not 0 is present in all training examples.\n",
      "  warnings.warn(\n",
      "C:\\Users\\tbsho\\AppData\\Roaming\\Python\\Python312\\site-packages\\sklearn\\multiclass.py:87: UserWarning: Label not 0 is present in all training examples.\n",
      "  warnings.warn(\n"
     ]
    },
    {
     "name": "stdout",
     "output_type": "stream",
     "text": [
      "['movie', 'casual', 'strategy', 'simulation', 'adventure', 'massively multiplayer', 'rpg', 'indie', 'violent', 'sports', 'free to play', 'early access', 'gore', 'audio production', 'design  illustration', 'utilities', 'education', 'racing', 'software training', 'action']\n",
      "[np.float64(0.9999384918194121), np.float64(0.7435354902201993), np.float64(0.8655062123262394), np.float64(0.8637347767253045), np.float64(0.7542256120063968), np.float64(0.9737360068889164), np.float64(0.8906753598228565), np.float64(0.7955345060893099), np.float64(0.9999876983638825), np.float64(0.9696395620617542), np.float64(0.9354164103825809), np.float64(0.9116004428589001), np.float64(0.9999876983638825), np.float64(0.9999753967277648), np.float64(0.9999507934555296), np.float64(0.9999753967277648), np.float64(0.9999876983638825), np.float64(0.9788042809693689), np.float64(0.9999876983638825), np.float64(0.7826054865297084)]\n"
     ]
    }
   ],
   "source": [
    "genres = []\n",
    "accuracy = []\n",
    "\n",
    "for z in range(len(y_labels)):\n",
    "    tmp = y[:,z]\n",
    "    results = []\n",
    "    for state in range(10):\n",
    "        x_train, x_test, y_train, y_test = train_test_split(X, tmp, test_size = 0.3, random_state = state)\n",
    "        classifier = OneVsRestClassifier(LinearSVC(C=0.9, loss='hinge', max_iter=50000))\n",
    "        classifier.fit(x_train, y_train)\n",
    "        y_pred = classifier.predict(x_test)\n",
    "        results.append(np.mean(y_pred == y_test))\n",
    "    genres.append(y_labels[z])\n",
    "    accuracy.append(np.mean(results))\n",
    "\n",
    "print(genres)\n",
    "print(accuracy)\n",
    "\n"
   ]
  },
  {
   "cell_type": "markdown",
   "metadata": {},
   "source": [
    "Vis"
   ]
  },
  {
   "cell_type": "code",
   "execution_count": 29,
   "metadata": {},
   "outputs": [
    {
     "data": {
      "text/html": [
       "<div>\n",
       "<style scoped>\n",
       "    .dataframe tbody tr th:only-of-type {\n",
       "        vertical-align: middle;\n",
       "    }\n",
       "\n",
       "    .dataframe tbody tr th {\n",
       "        vertical-align: top;\n",
       "    }\n",
       "\n",
       "    .dataframe thead th {\n",
       "        text-align: right;\n",
       "    }\n",
       "</style>\n",
       "<table border=\"1\" class=\"dataframe\">\n",
       "  <thead>\n",
       "    <tr style=\"text-align: right;\">\n",
       "      <th></th>\n",
       "      <th>0</th>\n",
       "    </tr>\n",
       "  </thead>\n",
       "  <tbody>\n",
       "    <tr>\n",
       "      <th>movie</th>\n",
       "      <td>0.999938</td>\n",
       "    </tr>\n",
       "    <tr>\n",
       "      <th>casual</th>\n",
       "      <td>0.743535</td>\n",
       "    </tr>\n",
       "    <tr>\n",
       "      <th>strategy</th>\n",
       "      <td>0.865506</td>\n",
       "    </tr>\n",
       "    <tr>\n",
       "      <th>simulation</th>\n",
       "      <td>0.863735</td>\n",
       "    </tr>\n",
       "    <tr>\n",
       "      <th>adventure</th>\n",
       "      <td>0.754226</td>\n",
       "    </tr>\n",
       "    <tr>\n",
       "      <th>massively multiplayer</th>\n",
       "      <td>0.973736</td>\n",
       "    </tr>\n",
       "    <tr>\n",
       "      <th>rpg</th>\n",
       "      <td>0.890675</td>\n",
       "    </tr>\n",
       "    <tr>\n",
       "      <th>indie</th>\n",
       "      <td>0.795535</td>\n",
       "    </tr>\n",
       "    <tr>\n",
       "      <th>violent</th>\n",
       "      <td>0.999988</td>\n",
       "    </tr>\n",
       "    <tr>\n",
       "      <th>sports</th>\n",
       "      <td>0.969640</td>\n",
       "    </tr>\n",
       "    <tr>\n",
       "      <th>free to play</th>\n",
       "      <td>0.935416</td>\n",
       "    </tr>\n",
       "    <tr>\n",
       "      <th>early access</th>\n",
       "      <td>0.911600</td>\n",
       "    </tr>\n",
       "    <tr>\n",
       "      <th>gore</th>\n",
       "      <td>0.999988</td>\n",
       "    </tr>\n",
       "    <tr>\n",
       "      <th>audio production</th>\n",
       "      <td>0.999975</td>\n",
       "    </tr>\n",
       "    <tr>\n",
       "      <th>design  illustration</th>\n",
       "      <td>0.999951</td>\n",
       "    </tr>\n",
       "    <tr>\n",
       "      <th>utilities</th>\n",
       "      <td>0.999975</td>\n",
       "    </tr>\n",
       "    <tr>\n",
       "      <th>education</th>\n",
       "      <td>0.999988</td>\n",
       "    </tr>\n",
       "    <tr>\n",
       "      <th>racing</th>\n",
       "      <td>0.978804</td>\n",
       "    </tr>\n",
       "    <tr>\n",
       "      <th>software training</th>\n",
       "      <td>0.999988</td>\n",
       "    </tr>\n",
       "    <tr>\n",
       "      <th>action</th>\n",
       "      <td>0.782605</td>\n",
       "    </tr>\n",
       "  </tbody>\n",
       "</table>\n",
       "</div>"
      ],
      "text/plain": [
       "                              0\n",
       "movie                  0.999938\n",
       "casual                 0.743535\n",
       "strategy               0.865506\n",
       "simulation             0.863735\n",
       "adventure              0.754226\n",
       "massively multiplayer  0.973736\n",
       "rpg                    0.890675\n",
       "indie                  0.795535\n",
       "violent                0.999988\n",
       "sports                 0.969640\n",
       "free to play           0.935416\n",
       "early access           0.911600\n",
       "gore                   0.999988\n",
       "audio production       0.999975\n",
       "design  illustration   0.999951\n",
       "utilities              0.999975\n",
       "education              0.999988\n",
       "racing                 0.978804\n",
       "software training      0.999988\n",
       "action                 0.782605"
      ]
     },
     "execution_count": 29,
     "metadata": {},
     "output_type": "execute_result"
    }
   ],
   "source": [
    "df = pd.DataFrame(accuracy, genres)\n",
    "df"
   ]
  }
 ],
 "metadata": {
  "kernelspec": {
   "display_name": "Python 3",
   "language": "python",
   "name": "python3"
  },
  "language_info": {
   "codemirror_mode": {
    "name": "ipython",
    "version": 3
   },
   "file_extension": ".py",
   "mimetype": "text/x-python",
   "name": "python",
   "nbconvert_exporter": "python",
   "pygments_lexer": "ipython3",
   "version": "3.12.2"
  }
 },
 "nbformat": 4,
 "nbformat_minor": 2
}
