{
 "cells": [
  {
   "cell_type": "markdown",
   "metadata": {},
   "source": [
    "## Data Capture"
   ]
  },
  {
   "cell_type": "code",
   "execution_count": null,
   "metadata": {},
   "outputs": [],
   "source": [
    "import numpy as np\n",
    "import pandas as pd\n",
    "import arff\n",
    "from sklearn.feature_extraction.text import TfidfVectorizer\n",
    "import matplotlib.pyplot as plt\n",
    "\n",
    "from urllib.request import urlretrieve\n",
    "\n",
    "def load_game_data():\n",
    "    url = 'https://api.openml.org/data/v1/download/22102514/PC-Games-2020.arff'\n",
    "    filename = 'pc_game_dataset.arff'\n",
    "    file, http_response = urlretrieve(url, filename)\n",
    "    dataset = arff.load(open(file, 'r'))\n",
    "    attributes = np.array(dataset['attributes'])\n",
    "    data = np.array(dataset['data'])\n",
    "    data = clean_data(data)\n",
    "    return data, attributes\n",
    "\n",
    "# Use this to save bandwidth and time if the project has the data file already downloaded\n",
    "def load_game_data_from_file():\n",
    "    file = 'pc_game_dataset.arff'\n",
    "    dataset = arff.load(open(file, 'r'))\n",
    "    attributes = np.array(dataset['attributes'])\n",
    "    data = np.array(dataset['data'])\n",
    "    data = clean_data(data)\n",
    "    return data, attributes\n",
    "\n",
    "def clean_data(data):\n",
    "    result = []\n",
    "    for element in data:\n",
    "        if element[6] != \"\" and element[6] is not None and element[25] != \"\" and element[25] is not None:\n",
    "            result.append(element)\n",
    "    return np.array(result)\n",
    "\n",
    "A, b = load_game_data_from_file()"
   ]
  },
  {
   "cell_type": "markdown",
   "metadata": {},
   "source": [
    "## Preprocessing"
   ]
  },
  {
   "cell_type": "code",
   "execution_count": 42,
   "metadata": {},
   "outputs": [
    {
     "name": "stdout",
     "output_type": "stream",
     "text": [
      "(27094, 22979)\n",
      "(27094, 20)\n"
     ]
    }
   ],
   "source": [
    "import string\n",
    "\n",
    "def process_string(subject):\n",
    "    term = subject.strip()\n",
    "    term = str.lower(term)\n",
    "    term = term.translate(str.maketrans(\"\",\"\", string.punctuation))\n",
    "    return term\n",
    "\n",
    "results = set([])\n",
    "genres = A[:,6]\n",
    "for entry in genres:\n",
    "    terms = str(entry).split(',')\n",
    "    for term in terms:\n",
    "        results.add(process_string(term))\n",
    "y_labels = list(results)\n",
    "\n",
    "y = []\n",
    "for entry in A:\n",
    "    y_row = [0] * len(y_labels)\n",
    "    for genre in str(entry[6]).split(','):\n",
    "        y_row[y_labels.index(process_string(genre))] = 1\n",
    "    y.append(y_row)\n",
    "    \n",
    "    \n",
    "y = np.array(y)\n",
    "\n",
    "docs = [str(n) for n in A[:,25]]\n",
    "tv = TfidfVectorizer(smooth_idf=True, sublinear_tf=True, max_df=0.5, min_df=5, lowercase=True, stop_words='english')\n",
    "tv_result = tv.fit_transform(docs)\n",
    "X = tv_result\n",
    "\n",
    "print(X.shape)\n",
    "print(y.shape)"
   ]
  },
  {
   "cell_type": "markdown",
   "metadata": {},
   "source": [
    "## Analysis"
   ]
  },
  {
   "cell_type": "markdown",
   "metadata": {},
   "source": [
    "### LinearSVC C=0.9"
   ]
  },
  {
   "cell_type": "code",
   "execution_count": null,
   "metadata": {},
   "outputs": [
    {
     "name": "stderr",
     "output_type": "stream",
     "text": [
      "C:\\Users\\tbsho\\AppData\\Roaming\\Python\\Python312\\site-packages\\sklearn\\multiclass.py:87: UserWarning: Label not 8 is present in all training examples.\n",
      "  warnings.warn(\n",
      "C:\\Users\\tbsho\\AppData\\Roaming\\Python\\Python312\\site-packages\\sklearn\\multiclass.py:87: UserWarning: Label not 1 is present in all training examples.\n",
      "  warnings.warn(\n",
      "C:\\Users\\tbsho\\AppData\\Roaming\\Python\\Python312\\site-packages\\sklearn\\multiclass.py:87: UserWarning: Label not 1 is present in all training examples.\n",
      "  warnings.warn(\n",
      "C:\\Users\\tbsho\\AppData\\Roaming\\Python\\Python312\\site-packages\\sklearn\\multiclass.py:87: UserWarning: Label not 5 is present in all training examples.\n",
      "  warnings.warn(\n",
      "C:\\Users\\tbsho\\AppData\\Roaming\\Python\\Python312\\site-packages\\sklearn\\multiclass.py:87: UserWarning: Label not 8 is present in all training examples.\n",
      "  warnings.warn(\n",
      "C:\\Users\\tbsho\\AppData\\Roaming\\Python\\Python312\\site-packages\\sklearn\\multiclass.py:87: UserWarning: Label not 12 is present in all training examples.\n",
      "  warnings.warn(\n",
      "C:\\Users\\tbsho\\AppData\\Roaming\\Python\\Python312\\site-packages\\sklearn\\multiclass.py:87: UserWarning: Label not 3 is present in all training examples.\n",
      "  warnings.warn(\n",
      "C:\\Users\\tbsho\\AppData\\Roaming\\Python\\Python312\\site-packages\\sklearn\\multiclass.py:87: UserWarning: Label not 8 is present in all training examples.\n",
      "  warnings.warn(\n",
      "C:\\Users\\tbsho\\AppData\\Roaming\\Python\\Python312\\site-packages\\sklearn\\multiclass.py:87: UserWarning: Label not 19 is present in all training examples.\n",
      "  warnings.warn(\n",
      "C:\\Users\\tbsho\\AppData\\Roaming\\Python\\Python312\\site-packages\\sklearn\\multiclass.py:87: UserWarning: Label not 1 is present in all training examples.\n",
      "  warnings.warn(\n",
      "C:\\Users\\tbsho\\AppData\\Roaming\\Python\\Python312\\site-packages\\sklearn\\multiclass.py:87: UserWarning: Label not 8 is present in all training examples.\n",
      "  warnings.warn(\n",
      "C:\\Users\\tbsho\\AppData\\Roaming\\Python\\Python312\\site-packages\\sklearn\\multiclass.py:87: UserWarning: Label not 1 is present in all training examples.\n",
      "  warnings.warn(\n",
      "C:\\Users\\tbsho\\AppData\\Roaming\\Python\\Python312\\site-packages\\sklearn\\multiclass.py:87: UserWarning: Label not 8 is present in all training examples.\n",
      "  warnings.warn(\n"
     ]
    },
    {
     "name": "stdout",
     "output_type": "stream",
     "text": [
      "0.9232402509533768\n"
     ]
    }
   ],
   "source": [
    "from sklearn.model_selection import cross_val_score\n",
    "from sklearn.model_selection import train_test_split\n",
    "from sklearn.multiclass import OneVsRestClassifier\n",
    "from sklearn.svm import LinearSVC\n",
    "\n",
    "#LinearSVC\n",
    "results = []\n",
    "for state in range(10):\n",
    "    x_train, x_test, y_train, y_test = train_test_split(X, y, test_size = 0.3, random_state = state)\n",
    "    classifier = OneVsRestClassifier(LinearSVC(C=0.9, loss='hinge', max_iter=50000))\n",
    "    classifier.fit(x_train, y_train)\n",
    "    y_pred = classifier.predict(x_test)\n",
    "    results.append(np.mean(y_pred == y_test))\n",
    "print(np.mean(results))"
   ]
  },
  {
   "cell_type": "markdown",
   "metadata": {},
   "source": [
    "By Genre (~45sec)"
   ]
  },
  {
   "cell_type": "code",
   "execution_count": null,
   "metadata": {},
   "outputs": [
    {
     "name": "stderr",
     "output_type": "stream",
     "text": [
      "C:\\Users\\tbsho\\AppData\\Roaming\\Python\\Python312\\site-packages\\sklearn\\multiclass.py:87: UserWarning: Label not 0 is present in all training examples.\n",
      "  warnings.warn(\n",
      "C:\\Users\\tbsho\\AppData\\Roaming\\Python\\Python312\\site-packages\\sklearn\\multiclass.py:87: UserWarning: Label not 0 is present in all training examples.\n",
      "  warnings.warn(\n",
      "C:\\Users\\tbsho\\AppData\\Roaming\\Python\\Python312\\site-packages\\sklearn\\multiclass.py:87: UserWarning: Label not 0 is present in all training examples.\n",
      "  warnings.warn(\n",
      "C:\\Users\\tbsho\\AppData\\Roaming\\Python\\Python312\\site-packages\\sklearn\\multiclass.py:87: UserWarning: Label not 0 is present in all training examples.\n",
      "  warnings.warn(\n",
      "C:\\Users\\tbsho\\AppData\\Roaming\\Python\\Python312\\site-packages\\sklearn\\multiclass.py:87: UserWarning: Label not 0 is present in all training examples.\n",
      "  warnings.warn(\n",
      "C:\\Users\\tbsho\\AppData\\Roaming\\Python\\Python312\\site-packages\\sklearn\\multiclass.py:87: UserWarning: Label not 0 is present in all training examples.\n",
      "  warnings.warn(\n",
      "C:\\Users\\tbsho\\AppData\\Roaming\\Python\\Python312\\site-packages\\sklearn\\multiclass.py:87: UserWarning: Label not 0 is present in all training examples.\n",
      "  warnings.warn(\n",
      "C:\\Users\\tbsho\\AppData\\Roaming\\Python\\Python312\\site-packages\\sklearn\\multiclass.py:87: UserWarning: Label not 0 is present in all training examples.\n",
      "  warnings.warn(\n",
      "C:\\Users\\tbsho\\AppData\\Roaming\\Python\\Python312\\site-packages\\sklearn\\multiclass.py:87: UserWarning: Label not 0 is present in all training examples.\n",
      "  warnings.warn(\n",
      "C:\\Users\\tbsho\\AppData\\Roaming\\Python\\Python312\\site-packages\\sklearn\\multiclass.py:87: UserWarning: Label not 0 is present in all training examples.\n",
      "  warnings.warn(\n",
      "C:\\Users\\tbsho\\AppData\\Roaming\\Python\\Python312\\site-packages\\sklearn\\multiclass.py:87: UserWarning: Label not 0 is present in all training examples.\n",
      "  warnings.warn(\n",
      "C:\\Users\\tbsho\\AppData\\Roaming\\Python\\Python312\\site-packages\\sklearn\\multiclass.py:87: UserWarning: Label not 0 is present in all training examples.\n",
      "  warnings.warn(\n",
      "C:\\Users\\tbsho\\AppData\\Roaming\\Python\\Python312\\site-packages\\sklearn\\multiclass.py:87: UserWarning: Label not 0 is present in all training examples.\n",
      "  warnings.warn(\n"
     ]
    },
    {
     "name": "stdout",
     "output_type": "stream",
     "text": [
      "['indie', 'design  illustration', 'action', 'software training', 'early access', 'gore', 'audio production', 'simulation', 'movie', 'racing', 'strategy', 'massively multiplayer', 'violent', 'free to play', 'sports', 'adventure', 'rpg', 'utilities', 'casual', 'education']\n",
      "[np.float64(0.7955345060893099), np.float64(0.9999507934555296), np.float64(0.7826054865297084), np.float64(0.9999876983638825), np.float64(0.9116004428589001), np.float64(0.9999876983638825), np.float64(0.9999753967277648), np.float64(0.8637347767253045), np.float64(0.9999384918194121), np.float64(0.9788042809693689), np.float64(0.8655062123262394), np.float64(0.9737360068889164), np.float64(0.9999876983638825), np.float64(0.9354164103825809), np.float64(0.9696395620617542), np.float64(0.7542256120063968), np.float64(0.8906753598228565), np.float64(0.9999753967277648), np.float64(0.7435354902201993), np.float64(0.9999876983638825)]\n"
     ]
    }
   ],
   "source": [
    "genres = []\n",
    "accuracy = []\n",
    "\n",
    "for z in range(len(y_labels)):\n",
    "    tmp = y[:,z]\n",
    "    results = []\n",
    "    for state in range(10):\n",
    "        x_train, x_test, y_train, y_test = train_test_split(X, tmp, test_size = 0.3, random_state = state)\n",
    "        classifier = OneVsRestClassifier(LinearSVC(C=0.9, loss='hinge', max_iter=50000))\n",
    "        classifier.fit(x_train, y_train)\n",
    "        y_pred = classifier.predict(x_test)\n",
    "        results.append(np.mean(y_pred == y_test))\n",
    "    genres.append(y_labels[z])\n",
    "    accuracy.append(np.mean(results))"
   ]
  },
  {
   "cell_type": "code",
   "execution_count": null,
   "metadata": {},
   "outputs": [],
   "source": [
    "df = pd.DataFrame(accuracy, genres)\n",
    "df"
   ]
  },
  {
   "cell_type": "markdown",
   "metadata": {},
   "source": [
    "### LinearSVC - Bagging"
   ]
  },
  {
   "cell_type": "code",
   "execution_count": 111,
   "metadata": {},
   "outputs": [
    {
     "name": "stdout",
     "output_type": "stream",
     "text": [
      "simulation\n",
      "0.6162361623616236\n"
     ]
    }
   ],
   "source": [
    "from sklearn.model_selection import GridSearchCV\n",
    "from sklearn.tree import DecisionTreeClassifier\n",
    "from sklearn.ensemble import BaggingClassifier\n",
    "from sklearn.svm import LinearSVC\n",
    "\n",
    "#x_train, x_test, y_train, y_test = train_test_split(X, y, test_size = 0.3, random_state = state)\n",
    "#lsvc = LinearSVC(C=0.9, loss='hinge', max_iter=50000)\n",
    "#bg = BaggingClassifier(estimator=lsvc, n_estimators=100)\n",
    "genres = []\n",
    "accuracy = []\n",
    "results = []\n",
    "    \n",
    "\n",
    "tmp = y[:,8]\n",
    "results = []\n",
    "x_train, x_test, y_train, y_test = train_test_split(X, tmp, test_size = 0.1, random_state = 6)\n",
    "lsvc = OneVsRestClassifier(LinearSVC(C=.09, loss='hinge', max_iter=50000))\n",
    "bg = BaggingClassifier(estimator=lsvc, n_estimators=100)    \n",
    "lsvc.fit(x_train, y_train)\n",
    "y_pred = classifier.predict(x_test)\n",
    "print(y_labels[8])\n",
    "print(np.mean(y_pred == y_test))\n",
    "\n",
    "\n",
    "#genres.append(y_labels[z])\n",
    "#accuracy.append(np.mean(results))\n",
    "#param_grid = {\n",
    "#    'max_samples' : [0.05, 0.1, 0.2, 0.5]\n",
    "#}\n",
    "#\n",
    "#clf = GridSearchCV(estimator=bg, param_grid=param_grid)\n",
    "#clf.fit(x_train, y_train)"
   ]
  },
  {
   "cell_type": "code",
   "execution_count": 87,
   "metadata": {},
   "outputs": [
    {
     "data": {
      "text/html": [
       "<div>\n",
       "<style scoped>\n",
       "    .dataframe tbody tr th:only-of-type {\n",
       "        vertical-align: middle;\n",
       "    }\n",
       "\n",
       "    .dataframe tbody tr th {\n",
       "        vertical-align: top;\n",
       "    }\n",
       "\n",
       "    .dataframe thead th {\n",
       "        text-align: right;\n",
       "    }\n",
       "</style>\n",
       "<table border=\"1\" class=\"dataframe\">\n",
       "  <thead>\n",
       "    <tr style=\"text-align: right;\">\n",
       "      <th></th>\n",
       "      <th>0</th>\n",
       "    </tr>\n",
       "  </thead>\n",
       "  <tbody>\n",
       "    <tr>\n",
       "      <th>utilities</th>\n",
       "      <td>0.681439</td>\n",
       "    </tr>\n",
       "    <tr>\n",
       "      <th>rpg</th>\n",
       "      <td>0.563432</td>\n",
       "    </tr>\n",
       "    <tr>\n",
       "      <th>free to play</th>\n",
       "      <td>0.654945</td>\n",
       "    </tr>\n",
       "    <tr>\n",
       "      <th>violent</th>\n",
       "      <td>0.681402</td>\n",
       "    </tr>\n",
       "    <tr>\n",
       "      <th>design  illustration</th>\n",
       "      <td>0.681365</td>\n",
       "    </tr>\n",
       "    <tr>\n",
       "      <th>action</th>\n",
       "      <td>0.442435</td>\n",
       "    </tr>\n",
       "    <tr>\n",
       "      <th>massively multiplayer</th>\n",
       "      <td>0.662177</td>\n",
       "    </tr>\n",
       "    <tr>\n",
       "      <th>audio production</th>\n",
       "      <td>0.681439</td>\n",
       "    </tr>\n",
       "    <tr>\n",
       "      <th>simulation</th>\n",
       "      <td>0.624280</td>\n",
       "    </tr>\n",
       "    <tr>\n",
       "      <th>early access</th>\n",
       "      <td>0.629779</td>\n",
       "    </tr>\n",
       "    <tr>\n",
       "      <th>racing</th>\n",
       "      <td>0.668007</td>\n",
       "    </tr>\n",
       "    <tr>\n",
       "      <th>adventure</th>\n",
       "      <td>0.523616</td>\n",
       "    </tr>\n",
       "    <tr>\n",
       "      <th>education</th>\n",
       "      <td>0.681439</td>\n",
       "    </tr>\n",
       "    <tr>\n",
       "      <th>movie</th>\n",
       "      <td>0.681292</td>\n",
       "    </tr>\n",
       "    <tr>\n",
       "      <th>gore</th>\n",
       "      <td>0.681402</td>\n",
       "    </tr>\n",
       "    <tr>\n",
       "      <th>software training</th>\n",
       "      <td>0.681439</td>\n",
       "    </tr>\n",
       "    <tr>\n",
       "      <th>strategy</th>\n",
       "      <td>0.593284</td>\n",
       "    </tr>\n",
       "    <tr>\n",
       "      <th>indie</th>\n",
       "      <td>0.445609</td>\n",
       "    </tr>\n",
       "    <tr>\n",
       "      <th>sports</th>\n",
       "      <td>0.670332</td>\n",
       "    </tr>\n",
       "    <tr>\n",
       "      <th>casual</th>\n",
       "      <td>0.891734</td>\n",
       "    </tr>\n",
       "  </tbody>\n",
       "</table>\n",
       "</div>"
      ],
      "text/plain": [
       "                              0\n",
       "utilities              0.681439\n",
       "rpg                    0.563432\n",
       "free to play           0.654945\n",
       "violent                0.681402\n",
       "design  illustration   0.681365\n",
       "action                 0.442435\n",
       "massively multiplayer  0.662177\n",
       "audio production       0.681439\n",
       "simulation             0.624280\n",
       "early access           0.629779\n",
       "racing                 0.668007\n",
       "adventure              0.523616\n",
       "education              0.681439\n",
       "movie                  0.681292\n",
       "gore                   0.681402\n",
       "software training      0.681439\n",
       "strategy               0.593284\n",
       "indie                  0.445609\n",
       "sports                 0.670332\n",
       "casual                 0.891734"
      ]
     },
     "execution_count": 87,
     "metadata": {},
     "output_type": "execute_result"
    }
   ],
   "source": [
    "df = pd.DataFrame(accuracy, genres)\n",
    "df"
   ]
  },
  {
   "cell_type": "markdown",
   "metadata": {},
   "source": [
    "### RandomForest n_estimators = 150 (30min~ to run)"
   ]
  },
  {
   "cell_type": "code",
   "execution_count": null,
   "metadata": {},
   "outputs": [],
   "source": [
    "from sklearn.ensemble import RandomForestClassifier\n",
    "\n",
    "genres = []\n",
    "accuracy = []\n",
    "for z in range(len(y_labels)):\n",
    "    tmp = y[:,z]\n",
    "    results = []\n",
    "    for state in range(10):\n",
    "        x_train, x_test, y_train, y_test = train_test_split(X, tmp, test_size = 0.3, random_state = state)\n",
    "        classifier = RandomForestClassifier(n_estimators=100, n_jobs=-1)\n",
    "        classifier.fit(x_train,y_train)\n",
    "        y_pred = classifier.predict(x_test)\n",
    "        results.append(np.mean(y_pred == y_test))\n",
    "    genres.append(y_labels[z])\n",
    "    accuracy.append(np.mean(results))"
   ]
  },
  {
   "cell_type": "code",
   "execution_count": 54,
   "metadata": {},
   "outputs": [
    {
     "data": {
      "text/html": [
       "<div>\n",
       "<style scoped>\n",
       "    .dataframe tbody tr th:only-of-type {\n",
       "        vertical-align: middle;\n",
       "    }\n",
       "\n",
       "    .dataframe tbody tr th {\n",
       "        vertical-align: top;\n",
       "    }\n",
       "\n",
       "    .dataframe thead th {\n",
       "        text-align: right;\n",
       "    }\n",
       "</style>\n",
       "<table border=\"1\" class=\"dataframe\">\n",
       "  <thead>\n",
       "    <tr style=\"text-align: right;\">\n",
       "      <th></th>\n",
       "      <th>0</th>\n",
       "    </tr>\n",
       "  </thead>\n",
       "  <tbody>\n",
       "    <tr>\n",
       "      <th>utilities</th>\n",
       "      <td>0.999951</td>\n",
       "    </tr>\n",
       "    <tr>\n",
       "      <th>rpg</th>\n",
       "      <td>0.859565</td>\n",
       "    </tr>\n",
       "    <tr>\n",
       "      <th>free to play</th>\n",
       "      <td>0.942022</td>\n",
       "    </tr>\n",
       "    <tr>\n",
       "      <th>violent</th>\n",
       "      <td>0.999988</td>\n",
       "    </tr>\n",
       "    <tr>\n",
       "      <th>design  illustration</th>\n",
       "      <td>0.999951</td>\n",
       "    </tr>\n",
       "    <tr>\n",
       "      <th>action</th>\n",
       "      <td>0.783700</td>\n",
       "    </tr>\n",
       "    <tr>\n",
       "      <th>massively multiplayer</th>\n",
       "      <td>0.970427</td>\n",
       "    </tr>\n",
       "    <tr>\n",
       "      <th>audio production</th>\n",
       "      <td>0.999951</td>\n",
       "    </tr>\n",
       "    <tr>\n",
       "      <th>simulation</th>\n",
       "      <td>0.841838</td>\n",
       "    </tr>\n",
       "    <tr>\n",
       "      <th>early access</th>\n",
       "      <td>0.909718</td>\n",
       "    </tr>\n",
       "    <tr>\n",
       "      <th>racing</th>\n",
       "      <td>0.972592</td>\n",
       "    </tr>\n",
       "    <tr>\n",
       "      <th>adventure</th>\n",
       "      <td>0.753869</td>\n",
       "    </tr>\n",
       "    <tr>\n",
       "      <th>education</th>\n",
       "      <td>0.999988</td>\n",
       "    </tr>\n",
       "    <tr>\n",
       "      <th>movie</th>\n",
       "      <td>0.999914</td>\n",
       "    </tr>\n",
       "    <tr>\n",
       "      <th>gore</th>\n",
       "      <td>0.999988</td>\n",
       "    </tr>\n",
       "    <tr>\n",
       "      <th>software training</th>\n",
       "      <td>0.999988</td>\n",
       "    </tr>\n",
       "    <tr>\n",
       "      <th>strategy</th>\n",
       "      <td>0.845504</td>\n",
       "    </tr>\n",
       "    <tr>\n",
       "      <th>indie</th>\n",
       "      <td>0.765482</td>\n",
       "    </tr>\n",
       "    <tr>\n",
       "      <th>sports</th>\n",
       "      <td>0.961545</td>\n",
       "    </tr>\n",
       "    <tr>\n",
       "      <th>casual</th>\n",
       "      <td>0.736782</td>\n",
       "    </tr>\n",
       "  </tbody>\n",
       "</table>\n",
       "</div>"
      ],
      "text/plain": [
       "                              0\n",
       "utilities              0.999951\n",
       "rpg                    0.859565\n",
       "free to play           0.942022\n",
       "violent                0.999988\n",
       "design  illustration   0.999951\n",
       "action                 0.783700\n",
       "massively multiplayer  0.970427\n",
       "audio production       0.999951\n",
       "simulation             0.841838\n",
       "early access           0.909718\n",
       "racing                 0.972592\n",
       "adventure              0.753869\n",
       "education              0.999988\n",
       "movie                  0.999914\n",
       "gore                   0.999988\n",
       "software training      0.999988\n",
       "strategy               0.845504\n",
       "indie                  0.765482\n",
       "sports                 0.961545\n",
       "casual                 0.736782"
      ]
     },
     "execution_count": 54,
     "metadata": {},
     "output_type": "execute_result"
    }
   ],
   "source": [
    "df = pd.DataFrame(accuracy, genres)\n",
    "df"
   ]
  },
  {
   "cell_type": "markdown",
   "metadata": {},
   "source": [
    "RandomForest Hyperparamater tuning (over 3 hours runtime)"
   ]
  },
  {
   "cell_type": "code",
   "execution_count": null,
   "metadata": {},
   "outputs": [
    {
     "name": "stdout",
     "output_type": "stream",
     "text": [
      "RandomForestClassifier(max_features=None, n_estimators=150, n_jobs=-1)\n"
     ]
    }
   ],
   "source": [
    "from sklearn.model_selection import train_test_split \n",
    "from sklearn.ensemble import RandomForestClassifier \n",
    "from sklearn.model_selection import GridSearchCV\n",
    "\n",
    "x_train, x_test, y_train, y_test = train_test_split(X, y, test_size = 0.3)\n",
    "param_grid = { \n",
    "    'n_estimators': [25, 50, 100, 150], \n",
    "    'max_features': ['sqrt', 'log2', None], \n",
    "    'max_depth': [3, 6, 9, None], \n",
    "    'max_leaf_nodes': [3, 6, 9, None], \n",
    "}\n",
    "grid_search = GridSearchCV(RandomForestClassifier(n_jobs=-1), \n",
    "                           param_grid=param_grid) \n",
    "grid_search.fit(x_train, y_train) \n",
    "print(grid_search.best_estimator_) "
   ]
  }
 ],
 "metadata": {
  "kernelspec": {
   "display_name": "Python 3",
   "language": "python",
   "name": "python3"
  },
  "language_info": {
   "codemirror_mode": {
    "name": "ipython",
    "version": 3
   },
   "file_extension": ".py",
   "mimetype": "text/x-python",
   "name": "python",
   "nbconvert_exporter": "python",
   "pygments_lexer": "ipython3",
   "version": "3.12.2"
  }
 },
 "nbformat": 4,
 "nbformat_minor": 2
}
